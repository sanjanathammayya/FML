{
  "nbformat": 4,
  "nbformat_minor": 0,
  "metadata": {
    "colab": {
      "provenance": []
    },
    "kernelspec": {
      "name": "python3",
      "display_name": "Python 3"
    },
    "language_info": {
      "name": "python"
    }
  },
  "cells": [
    {
      "cell_type": "markdown",
      "source": [
        "User Input\n",
        "1. Write a Python program to prompt the user for their name and print a greeting message.\n",
        "2. Ask the user to enter two numbers and print their sum.\n",
        "3. Write a program that asks the user to enter their age and then prints how old they will be in 5 years.\n",
        "4. Prompt the user for a sentence and count the number of words in the sentence.\n",
        "5. Create a program that asks for the user's birth year and calculates their age.\n",
        "6. Write a program that asks the user to enter three different numbers and prints the largest one.\n",
        "7. Ask the user for their height in centimeters and convert it to meters.\n",
        "8. Create a program that asks for the user's favorite color and prints a message based on the input (e.g., \"Blue is a calming color\").\n",
        "9. Prompt the user to enter a list of numbers separated by commas and calculate the average of those numbers.\n",
        "10. Write a program that asks the user for their first and last name separately and then prints their full name in reverse order (last name, first name)."
      ],
      "metadata": {
        "id": "i6aipxw2ThTm"
      }
    },
    {
      "cell_type": "code",
      "source": [
        "# Write a Python program to prompt the user for their name and print a greeting message.\n",
        "name=input(\"Please enter your name: \")\n",
        "print(\"Hello\",name,\" How are you doing?. Have a great day\")"
      ],
      "metadata": {
        "id": "02smJs4CXVzL",
        "colab": {
          "base_uri": "https://localhost:8080/"
        },
        "outputId": "e4dc7cf1-d72e-4abb-d28f-04f49ccae5f2"
      },
      "execution_count": 1,
      "outputs": [
        {
          "output_type": "stream",
          "name": "stdout",
          "text": [
            "Please enter your name: sanjana\n",
            "Hello sanjana  How are you doing?. Have a great day\n"
          ]
        }
      ]
    },
    {
      "cell_type": "code",
      "source": [
        "#Ask the user to enter two numbers and print their sum.\n",
        "num1=int(input(\"enter a value: \"))\n",
        "num2=int(input(\"enter b value: \"))\n",
        "print(\"The sum of a\",num1, \"and b\", num2, \"is: \",(num1+num2))"
      ],
      "metadata": {
        "colab": {
          "base_uri": "https://localhost:8080/"
        },
        "id": "ag13PTTXGBFr",
        "outputId": "01fc8da8-e3a4-4ebb-9081-19b562151e5a"
      },
      "execution_count": 2,
      "outputs": [
        {
          "output_type": "stream",
          "name": "stdout",
          "text": [
            "enter a value: 10\n",
            "enter b value: 4\n",
            "The sum of a 10 and b 4 is:  14\n"
          ]
        }
      ]
    },
    {
      "cell_type": "code",
      "source": [
        "#Write a program that asks the user to enter their age and then prints how old they will be in 5 years.\n",
        "age=int(input(\"Enter your current age: \"))\n",
        "print(\"Your age in next 5 years will be \",(age+5))"
      ],
      "metadata": {
        "colab": {
          "base_uri": "https://localhost:8080/"
        },
        "id": "AgcOPxlxHNZk",
        "outputId": "61f04719-d0d1-4888-b100-ae5c4649b338"
      },
      "execution_count": 3,
      "outputs": [
        {
          "output_type": "stream",
          "name": "stdout",
          "text": [
            "Enter your current age: 15\n",
            "Your age in next 5 years will be  20\n"
          ]
        }
      ]
    },
    {
      "cell_type": "code",
      "source": [
        "# Prompt the user for a sentence and count the number of words in the sentence.\n",
        "s=input(\"Enter a sentence: \")\n",
        "l=s.split()\n",
        "length=len(l)\n",
        "print(length)"
      ],
      "metadata": {
        "colab": {
          "base_uri": "https://localhost:8080/"
        },
        "id": "YK6zN4MSIV4E",
        "outputId": "fd332333-cff2-4763-8f99-20080936c663"
      },
      "execution_count": 4,
      "outputs": [
        {
          "output_type": "stream",
          "name": "stdout",
          "text": [
            "Enter a sentence: my name is sanjana\n",
            "4\n"
          ]
        }
      ]
    },
    {
      "cell_type": "code",
      "source": [
        "# Create a program that asks for the user's birth year and calculates their age.\n",
        "bday=int(input(\"Enter your Birthday year: \"))\n",
        "age=2024-bday\n",
        "print(\"Your current age is: \",age)"
      ],
      "metadata": {
        "colab": {
          "base_uri": "https://localhost:8080/"
        },
        "id": "bPiFDaADJGnF",
        "outputId": "cc7ef6cc-5a18-433d-a678-4176d0016530"
      },
      "execution_count": 5,
      "outputs": [
        {
          "output_type": "stream",
          "name": "stdout",
          "text": [
            "Enter your Birthday year: 2018\n",
            "Your current age is:  6\n"
          ]
        }
      ]
    },
    {
      "cell_type": "code",
      "source": [
        "# Write a program that asks the user to enter three different numbers and prints the largest one.\n",
        "print(\"Pleae enter 3 different numbers \")\n",
        "a=int(input(\"Enter first number: \"))\n",
        "b=int(input(\"Enter second number: \"))\n",
        "c=int(input(\"Enter third number: \"))\n",
        "if(a>b and a>c):\n",
        "  print(\"The largest number out of these 3 number is \", a)\n",
        "elif b>a and b>c:\n",
        "  print(\"The largest number out of these 3 number is \", b)\n",
        "elif c>a and c>b:\n",
        "  print(\"The largest number out of these 3 number is \", c)\n",
        "else:\n",
        "  print(\"please enter different numbers\")\n",
        "\n"
      ],
      "metadata": {
        "colab": {
          "base_uri": "https://localhost:8080/"
        },
        "id": "eth-pRtYJuUL",
        "outputId": "70a9d6f9-6b43-461c-f6cb-313311456d3b"
      },
      "execution_count": 6,
      "outputs": [
        {
          "output_type": "stream",
          "name": "stdout",
          "text": [
            "Pleae enter 3 different numbers \n",
            "Enter first number: 3\n",
            "Enter second number: 6\n",
            "Enter third number: 8\n",
            "The largest number out of these 3 number is  8\n"
          ]
        }
      ]
    },
    {
      "cell_type": "code",
      "source": [
        "# Ask the user for their height in centimeters and convert it to meters.\n",
        "h=float(input(\"Enter your age in centimeters: \"))\n",
        "print(\"Your entered height is \",h,\"cm\");\n",
        "m=h/100\n",
        "print(\"Height is in meters: \",m,\"m\")\n"
      ],
      "metadata": {
        "colab": {
          "base_uri": "https://localhost:8080/"
        },
        "id": "U4ohWeJKLd8J",
        "outputId": "85ecfad8-fb67-4f7b-ac8e-6c8a2acfedc3"
      },
      "execution_count": 7,
      "outputs": [
        {
          "output_type": "stream",
          "name": "stdout",
          "text": [
            "Enter your age in centimeters: 157\n",
            "Your entered height is  157.0 cm\n",
            "Height is in meters:  1.57 m\n"
          ]
        }
      ]
    },
    {
      "cell_type": "code",
      "source": [
        "#Create a program that asks for the user's favorite color and prints a message based on the input (e.g., \"Blue is a calming color\").\n",
        "c=input(\"please enter your favorite color: \").lower()\n",
        "if c==\"blue\" :\n",
        "  print(\"\\\"Blue is a calming color\\\"\")\n",
        "elif c==\"red\" :\n",
        "  print(\"Red represents fire\")\n",
        "elif c==\"orange\":\n",
        "  print(\"Orange is a very vibrant and energetic color\")\n",
        "elif c== \"yellow\":\n",
        "  print(\"Yellow is associated with happiness and sunshine\")\n",
        "elif c==\"green\" :\n",
        "  print(\"Green represent new beginnings and growth\")\n",
        "elif c==\"purple\" :\n",
        "  print(\"Purple is represents royalty and wealth\")\n",
        "elif c==\"black\" :\n",
        "  print(\"Black is symbol of power, elegance, and formality\")\n",
        "elif c==\"white\" :\n",
        "  print(\" White is represents purity\")\n",
        "else:\n",
        "  print(\"sorry... \\n your entered color is not in the list\")"
      ],
      "metadata": {
        "colab": {
          "base_uri": "https://localhost:8080/"
        },
        "id": "d7wbdMdVMwBV",
        "outputId": "5daaaed4-d5dd-45fe-c603-910c47c97feb"
      },
      "execution_count": 8,
      "outputs": [
        {
          "output_type": "stream",
          "name": "stdout",
          "text": [
            "please enter your favorite color: red\n",
            "Red represents fire\n"
          ]
        }
      ]
    },
    {
      "cell_type": "code",
      "source": [
        "# Prompt the user to enter a list of numbers separated by commas and calculate the average of those numbers.\n",
        "val=input(\"Enter a list of numbers separated by commas: \")\n",
        "l=val.split(\",\")\n",
        "print (l)\n",
        "sum=0\n",
        "s=[]\n",
        "length=len(l)\n",
        "for i in l:\n",
        "  num=int(i)\n",
        "  s.append(num)\n",
        "print(s)\n",
        "\n",
        "for i in range(0,len(s)):\n",
        "  sum=sum+s[i]\n",
        "print(sum)\n",
        "avg=sum//len(s)\n",
        "print(\"Average is: \",avg)\n",
        "\n"
      ],
      "metadata": {
        "colab": {
          "base_uri": "https://localhost:8080/"
        },
        "id": "judc0izYTRZ5",
        "outputId": "3bac9260-ef21-42cd-aeb4-4e5d178f0d3b"
      },
      "execution_count": 9,
      "outputs": [
        {
          "output_type": "stream",
          "name": "stdout",
          "text": [
            "Enter a list of numbers separated by commas: 1,2,7,6,4\n",
            "['1', '2', '7', '6', '4']\n",
            "[1, 2, 7, 6, 4]\n",
            "20\n",
            "Average is:  4\n"
          ]
        }
      ]
    },
    {
      "cell_type": "code",
      "source": [
        "# Write a program that asks the user for their first and last name separately and then prints their full name in reverse order (last name, first name).\n",
        "fname=input(\"Enter first name: \")\n",
        "lname=input(\"Enter last name: \")\n",
        "print(\"Reverse order of full name: \")\n",
        "print(lname,fname)"
      ],
      "metadata": {
        "colab": {
          "base_uri": "https://localhost:8080/"
        },
        "id": "h7rlZMf8ascs",
        "outputId": "41109586-60e8-4329-c434-3656a9467706"
      },
      "execution_count": 10,
      "outputs": [
        {
          "output_type": "stream",
          "name": "stdout",
          "text": [
            "Enter first name: abc\n",
            "Enter last name: x\n",
            "Reverse order of full name: \n",
            "x abc\n"
          ]
        }
      ]
    },
    {
      "cell_type": "markdown",
      "source": [
        "Convert User Input\n",
        "1. Ask the user to enter a number and convert it to an integer.\n",
        "2.Prompt the user for a floating-point number and convert it to an integer.\n",
        "3. Write a program that asks for a string input and converts it to uppercase.\n",
        "4. propmt the user to enter a number and print its binary representation.\n",
        "5. Create a program that takes a user input as a string and converts it to a list of characters.\n",
        "6. Ask the user to enter a number and convert it to a float.\n",
        "7. Write a program that takes a user input and converts it to a boolean.\n",
        "8. Prompt the user to enter two numbers and convert them to complex numbers.\n",
        "9. Create a program that converts a user-entered string representing a date (e.g., \"2024-08-01\") to a datetime object.\n",
        "10. Write a program that asks the user for a hexadecimal string and converts it to an integer."
      ],
      "metadata": {
        "id": "S8eJQ3dlW_sI"
      }
    },
    {
      "cell_type": "code",
      "source": [
        "# Ask the user to enter a number and convert it to an integer.\n",
        "num=input(\"Enter a number \")\n",
        "convert=int(num)\n",
        "print(\"entered number is: \",num)\n",
        "print(\"Result is \",convert)\n",
        "\n"
      ],
      "metadata": {
        "id": "-RsDfsDZXWz7",
        "colab": {
          "base_uri": "https://localhost:8080/"
        },
        "outputId": "bd6c63e6-2c01-4510-b514-5f0b981ea444"
      },
      "execution_count": 11,
      "outputs": [
        {
          "output_type": "stream",
          "name": "stdout",
          "text": [
            "Enter a number 60\n",
            "entered number is:  60\n",
            "Result is  60\n"
          ]
        }
      ]
    },
    {
      "cell_type": "code",
      "source": [
        "# Prompt the user for a floating-point number and convert it to an integer.\n",
        "num=float(input(\"Enter a number \"))\n",
        "con=int(num)\n",
        "print(\"entered floating number is: \",num)\n",
        "print(\"Result is in integer \",con)"
      ],
      "metadata": {
        "colab": {
          "base_uri": "https://localhost:8080/"
        },
        "id": "zEADTTvicXdJ",
        "outputId": "7f786468-3f27-4658-c573-c83ba1d1b531"
      },
      "execution_count": 12,
      "outputs": [
        {
          "output_type": "stream",
          "name": "stdout",
          "text": [
            "Enter a number 89.456\n",
            "entered floating number is:  89.456\n",
            "Result is in integer  89\n"
          ]
        }
      ]
    },
    {
      "cell_type": "code",
      "source": [
        "#Write a program that asks for a string input and converts it to uppercase.\n",
        "string=input(\"Enter a string: \")\n",
        "s=string.upper()\n",
        "print(s)\n",
        "\n"
      ],
      "metadata": {
        "colab": {
          "base_uri": "https://localhost:8080/"
        },
        "id": "cj3EfAnuc62K",
        "outputId": "296ac862-c0af-4696-91c1-d0e687b32a20"
      },
      "execution_count": 13,
      "outputs": [
        {
          "output_type": "stream",
          "name": "stdout",
          "text": [
            "Enter a string: python\n",
            "PYTHON\n"
          ]
        }
      ]
    },
    {
      "cell_type": "code",
      "source": [
        "#propmt the user to enter a number and print its binary representation.\n",
        "num=int(input(\"Enter a number: \"))\n",
        "num1=bin(num)\n",
        "print(num1)\n",
        "res=num1[2:]\n",
        "print(res)\n",
        "# return bin(n)[2:]"
      ],
      "metadata": {
        "colab": {
          "base_uri": "https://localhost:8080/"
        },
        "id": "EQ3rYedfgqlH",
        "outputId": "de63cc23-70d0-40b0-de92-380a96d02a03"
      },
      "execution_count": 14,
      "outputs": [
        {
          "output_type": "stream",
          "name": "stdout",
          "text": [
            "Enter a number: 3\n",
            "0b11\n",
            "11\n"
          ]
        }
      ]
    },
    {
      "cell_type": "code",
      "source": [
        "# #Create a program that takes a user input as a string and converts it to a list of characters.\n",
        "s=input(\"enter a string: \")\n",
        "# res=[char for char in s]\n",
        "# print(res)\n",
        "l=list(s)\n",
        "print(l)\n"
      ],
      "metadata": {
        "id": "he0ff3Gtioqr",
        "colab": {
          "base_uri": "https://localhost:8080/"
        },
        "outputId": "feba8982-ac6a-4c28-9cdc-9eedbe6e7b87"
      },
      "execution_count": 15,
      "outputs": [
        {
          "output_type": "stream",
          "name": "stdout",
          "text": [
            "enter a string: python\n",
            "['p', 'y', 't', 'h', 'o', 'n']\n"
          ]
        }
      ]
    },
    {
      "cell_type": "code",
      "source": [
        "#Ask the user to enter a number and convert it to a float.\n",
        "n=int(input(\"enter a number: \"))\n",
        "n1=float(n)\n",
        "print(\"float value: \",n1)"
      ],
      "metadata": {
        "colab": {
          "base_uri": "https://localhost:8080/"
        },
        "id": "dqcbME2QOjBn",
        "outputId": "be0f9457-449f-4071-b093-067a5ee10b7a"
      },
      "execution_count": 16,
      "outputs": [
        {
          "output_type": "stream",
          "name": "stdout",
          "text": [
            "enter a number: 50\n",
            "float value:  50.0\n"
          ]
        }
      ]
    },
    {
      "cell_type": "code",
      "source": [
        "#Write a program that takes a user input and converts it to a boolean.\n"
      ],
      "metadata": {
        "id": "oEgLeKTiPA0V"
      },
      "execution_count": 17,
      "outputs": []
    },
    {
      "cell_type": "code",
      "source": [
        "# Prompt the user to enter two numbers and convert them to complex numbers.\n",
        "a=float(input(\"enter real part: \"))\n",
        "b=float(input(\"enter imaginary part: \"))\n",
        "res=complex(a,b)\n",
        "print(res)\n"
      ],
      "metadata": {
        "id": "9YPJTkCVPwvy",
        "colab": {
          "base_uri": "https://localhost:8080/"
        },
        "outputId": "73f71099-09f2-4739-ce3d-ae2a2d71fe05"
      },
      "execution_count": 18,
      "outputs": [
        {
          "output_type": "stream",
          "name": "stdout",
          "text": [
            "enter real part: 4\n",
            "enter imaginary part: 6\n",
            "(4+6j)\n"
          ]
        }
      ]
    },
    {
      "cell_type": "code",
      "source": [
        "#Create a program that converts a user-entered string representing a date (e.g., \"2024-08-01\") to a datetime object.\n",
        "from datetime import datetime\n",
        "d=input(\"enter date: (yyyy-mm-dd) \")\n",
        "dt=datetime.strptime(d,\"%Y-%m-%d\")\n",
        "print(dt)\n"
      ],
      "metadata": {
        "colab": {
          "base_uri": "https://localhost:8080/"
        },
        "id": "chfbKYEgY7Ye",
        "outputId": "2bdb4e08-09be-43a9-c8b6-747f61147b2a"
      },
      "execution_count": 19,
      "outputs": [
        {
          "output_type": "stream",
          "name": "stdout",
          "text": [
            "enter date: (yyyy-mm-dd) 2024-12-01\n",
            "2024-12-01 00:00:00\n"
          ]
        }
      ]
    },
    {
      "cell_type": "code",
      "source": [
        "# #Write a program that asks the user for a hexadecimal string and converts it to an integer.\n",
        "\n",
        "h=input(\"enter a hexadecimal number: \")\n",
        "i=int(h,16)\n",
        "print(\"integer value\",i)"
      ],
      "metadata": {
        "colab": {
          "base_uri": "https://localhost:8080/"
        },
        "id": "ts6-rTMxp5je",
        "outputId": "00229f1b-7384-411f-b8c7-d29695d9c382"
      },
      "execution_count": 20,
      "outputs": [
        {
          "output_type": "stream",
          "name": "stdout",
          "text": [
            "enter a hexadecimal number: AC7\n",
            "integer value 2759\n"
          ]
        }
      ]
    },
    {
      "cell_type": "markdown",
      "source": [
        "Comparison Operators\n",
        "1. program that asks the user for two numbers and checks if they are equal.\n",
        "2. program to compare two user-entered numbers and print the  greater.\n",
        "3. Ask the user for their age and check if they are old enough to vote (18 or older).\n",
        "4. Write a program that checks if a user-entered number is positive, negative, or zero.\n",
        "5. Create a program that asks the user for two words and checks if they are the same (case-insensitive).\n",
        "6. Write a program that checks if a user-entered year is a leap year.\n",
        "7. Ask the user for a number and check if it is divisible by both 3 and 5.\n",
        "8. Create a program that checks if a user-entered string contains the word \"Python\".\n",
        "9. Write a program that compares the lengths of two user-entered strings and prints which one is longer.\n",
        "10. Ask the user for three numbers and check if they can form a triangle (sum of any two sides must be greater than the third side)."
      ],
      "metadata": {
        "id": "X35m9hmUXBli"
      }
    },
    {
      "cell_type": "code",
      "source": [
        "#program that asks the user for two numbers and checks if they are equal.\n",
        "a=int(input())\n",
        "b=int(input())\n",
        "print(a==b)"
      ],
      "metadata": {
        "id": "zwDYHEs9XXdb",
        "colab": {
          "base_uri": "https://localhost:8080/"
        },
        "outputId": "d29ea417-e854-4960-bcbb-82ab062297e2"
      },
      "execution_count": 21,
      "outputs": [
        {
          "output_type": "stream",
          "name": "stdout",
          "text": [
            "20\n",
            "10\n",
            "False\n"
          ]
        }
      ]
    },
    {
      "cell_type": "code",
      "source": [
        "#program to compare two user-entered numbers and print the greater.\n",
        "a=int(input())\n",
        "b=int(input())\n",
        "if a>b:\n",
        "  print(a)\n",
        "else:\n",
        "  print(b)\n"
      ],
      "metadata": {
        "colab": {
          "base_uri": "https://localhost:8080/"
        },
        "id": "iy8EVKlZvYme",
        "outputId": "61e762db-ea52-42c4-ce52-b601506b0152"
      },
      "execution_count": 22,
      "outputs": [
        {
          "output_type": "stream",
          "name": "stdout",
          "text": [
            "2\n",
            "4\n",
            "4\n"
          ]
        }
      ]
    },
    {
      "cell_type": "code",
      "source": [
        "#Ask the user for their age and check if they are old enough to vote (18 or older).\n",
        "age=int(input(\"Enter age: \"))\n",
        "if(age<18):\n",
        "  print(\"not eligible to vote\")\n",
        "else:\n",
        "  print(\"eligible to vote\")\n"
      ],
      "metadata": {
        "id": "Qy7PPNGJv4lG",
        "colab": {
          "base_uri": "https://localhost:8080/"
        },
        "outputId": "2c8e5e0b-30cf-4bdc-c289-5974a18dccf3"
      },
      "execution_count": 23,
      "outputs": [
        {
          "output_type": "stream",
          "name": "stdout",
          "text": [
            "Enter age: 45\n",
            "eligible to vote\n"
          ]
        }
      ]
    },
    {
      "cell_type": "code",
      "source": [
        "# Write a program that checks if a user-entered number is positive, negative, or zero.\n",
        "n=int(input(\"Enter a number: \"))\n",
        "if(n>0):\n",
        "  print(\"positive\")\n",
        "elif(n<0):\n",
        "  print(\"negative\")\n",
        "else:\n",
        "  print(\"zero\")"
      ],
      "metadata": {
        "colab": {
          "base_uri": "https://localhost:8080/"
        },
        "id": "3_PExDh4GFuV",
        "outputId": "c417ac10-78c4-43bd-8a51-3d06391a2e38"
      },
      "execution_count": 24,
      "outputs": [
        {
          "output_type": "stream",
          "name": "stdout",
          "text": [
            "Enter a number: -10\n",
            "negative\n"
          ]
        }
      ]
    },
    {
      "cell_type": "code",
      "source": [
        "#Create a program that asks the user for two words and checks if they are the same (case-insensitive).\n",
        "w1=input(\"enter word1: \").lower()\n",
        "w2=input(\"enter word2: \").lower()\n",
        "if(w1==w2):\n",
        "  print(\"same\")\n",
        "else:\n",
        "  print(\"not same\")"
      ],
      "metadata": {
        "colab": {
          "base_uri": "https://localhost:8080/"
        },
        "id": "TxtELQybG4Fm",
        "outputId": "11b3ffc2-f6c5-4b7e-c24f-066558f69a72"
      },
      "execution_count": 25,
      "outputs": [
        {
          "output_type": "stream",
          "name": "stdout",
          "text": [
            "enter word1: abc\n",
            "enter word2: ABC\n",
            "same\n"
          ]
        }
      ]
    },
    {
      "cell_type": "code",
      "source": [
        "#Write a program that checks if a user-entered year is a leap year.\n",
        "y=int(input(\"enter a year\"))\n",
        "if(y%4==0):\n",
        "  print(\"leap year\")\n",
        "elif(y%400==0):\n",
        "  print(\"leap year\")\n",
        "elif(y%100==0):\n",
        "  print(\"not a leap year\")\n",
        "else:\n",
        "  print(\"not a leap year \")"
      ],
      "metadata": {
        "colab": {
          "base_uri": "https://localhost:8080/"
        },
        "id": "XBmeccuUHz_P",
        "outputId": "fa5192c3-7caa-4e6c-d367-8b3f1f66d83b"
      },
      "execution_count": 26,
      "outputs": [
        {
          "output_type": "stream",
          "name": "stdout",
          "text": [
            "enter a year2000\n",
            "leap year\n"
          ]
        }
      ]
    },
    {
      "cell_type": "code",
      "source": [
        "#Ask the user for a number and check if it is divisible by both 3 and 5.\n",
        "num=int(input(\"enter a number: \"))\n",
        "if(num%3==0 and num%5==0):\n",
        "  print(\"the given number \",num,\"divisible by both 3 and 5\")\n",
        "else:\n",
        "  print(\"the given number \",num,\"not divisible by both 3 and 5\")"
      ],
      "metadata": {
        "colab": {
          "base_uri": "https://localhost:8080/"
        },
        "id": "-ePq3ShUfVir",
        "outputId": "5af997f0-5271-4c58-8266-4b61a66309e0"
      },
      "execution_count": 27,
      "outputs": [
        {
          "output_type": "stream",
          "name": "stdout",
          "text": [
            "enter a number: 10\n",
            "the given number  10 not divisible by both 3 and 5\n"
          ]
        }
      ]
    },
    {
      "cell_type": "code",
      "source": [
        "#Create a program that checks if a user-entered string contains the word \"Python\".\n",
        "string=input()\n",
        "if \"Python\" in string:\n",
        "  print(\"present\")\n",
        "else:\n",
        "  print(\"not present\")"
      ],
      "metadata": {
        "colab": {
          "base_uri": "https://localhost:8080/"
        },
        "id": "yyIW46O5gWpw",
        "outputId": "7be5fa0a-8c14-4845-ae97-fe0fe2dffcb8"
      },
      "execution_count": 28,
      "outputs": [
        {
          "output_type": "stream",
          "name": "stdout",
          "text": [
            "2\n",
            "not present\n"
          ]
        }
      ]
    },
    {
      "cell_type": "code",
      "source": [
        "#Write a program that compares the lengths of two user-entered strings and prints which one is longer.\n",
        "string1=input()\n",
        "string2=input()\n",
        "l1=len(string1)\n",
        "l2=len(string2)\n",
        "if(l1==l2):\n",
        "  print(\"equal\")\n",
        "else:\n",
        "  print(\"not equal\")\n"
      ],
      "metadata": {
        "colab": {
          "base_uri": "https://localhost:8080/"
        },
        "id": "fW9jZpAKhPbn",
        "outputId": "ff4590ed-19b0-44a8-d723-073f79da11c1"
      },
      "execution_count": 29,
      "outputs": [
        {
          "output_type": "stream",
          "name": "stdout",
          "text": [
            "easy\n",
            "exam\n",
            "equal\n"
          ]
        }
      ]
    },
    {
      "cell_type": "code",
      "source": [
        "#Ask the user for three numbers and check if they can form a triangle (sum of any two sides must be greater than the third side).\n",
        "\n",
        "a=int(input())\n",
        "b=int(input())\n",
        "c=int(input())\n",
        "if((a+b)>c and (b+c)>a and (c+a)>b):\n",
        "  print(\"can form triangle\")\n",
        "else:\n",
        "  print(\"cannot form triangle \")"
      ],
      "metadata": {
        "id": "61vMyqwGiSMf",
        "colab": {
          "base_uri": "https://localhost:8080/"
        },
        "outputId": "0e48dc8b-fbda-4827-d8e3-d140de87533f"
      },
      "execution_count": 30,
      "outputs": [
        {
          "output_type": "stream",
          "name": "stdout",
          "text": [
            "3\n",
            "4\n",
            "5\n",
            "can form triangle\n"
          ]
        }
      ]
    },
    {
      "cell_type": "code",
      "source": [],
      "metadata": {
        "id": "Sk0UV_nuhkvg"
      },
      "execution_count": 30,
      "outputs": []
    },
    {
      "cell_type": "markdown",
      "source": [
        "**13/8/2024 lab work**"
      ],
      "metadata": {
        "id": "mCN9p-SvfhO6"
      }
    },
    {
      "cell_type": "code",
      "source": [
        "astr=\"Hello Bob\"\n",
        "istr=int (astr)\n",
        "istr=-1\n",
        "print(\"First\", istr)\n",
        "\n",
        "bstr=\"123\"\n",
        "jstr=int (bstr)\n",
        "jstr=-1\n",
        "print(\"Second\", jstr)"
      ],
      "metadata": {
        "colab": {
          "base_uri": "https://localhost:8080/",
          "height": 211
        },
        "id": "bxhSuTvYMr24",
        "outputId": "ae66088a-c97a-49f0-c248-4d926db5a2b1"
      },
      "execution_count": 32,
      "outputs": [
        {
          "output_type": "error",
          "ename": "ValueError",
          "evalue": "invalid literal for int() with base 10: 'Hello Bob'",
          "traceback": [
            "\u001b[0;31m---------------------------------------------------------------------------\u001b[0m",
            "\u001b[0;31mValueError\u001b[0m                                Traceback (most recent call last)",
            "\u001b[0;32m<ipython-input-32-b81690c57120>\u001b[0m in \u001b[0;36m<cell line: 2>\u001b[0;34m()\u001b[0m\n\u001b[1;32m      1\u001b[0m \u001b[0mastr\u001b[0m\u001b[0;34m=\u001b[0m\u001b[0;34m\"Hello Bob\"\u001b[0m\u001b[0;34m\u001b[0m\u001b[0;34m\u001b[0m\u001b[0m\n\u001b[0;32m----> 2\u001b[0;31m \u001b[0mistr\u001b[0m\u001b[0;34m=\u001b[0m\u001b[0mint\u001b[0m \u001b[0;34m(\u001b[0m\u001b[0mastr\u001b[0m\u001b[0;34m)\u001b[0m\u001b[0;34m\u001b[0m\u001b[0;34m\u001b[0m\u001b[0m\n\u001b[0m\u001b[1;32m      3\u001b[0m \u001b[0mistr\u001b[0m\u001b[0;34m=\u001b[0m\u001b[0;34m-\u001b[0m\u001b[0;36m1\u001b[0m\u001b[0;34m\u001b[0m\u001b[0;34m\u001b[0m\u001b[0m\n\u001b[1;32m      4\u001b[0m \u001b[0mprint\u001b[0m\u001b[0;34m(\u001b[0m\u001b[0;34m\"First\"\u001b[0m\u001b[0;34m,\u001b[0m \u001b[0mistr\u001b[0m\u001b[0;34m)\u001b[0m\u001b[0;34m\u001b[0m\u001b[0;34m\u001b[0m\u001b[0m\n\u001b[1;32m      5\u001b[0m \u001b[0;34m\u001b[0m\u001b[0m\n",
            "\u001b[0;31mValueError\u001b[0m: invalid literal for int() with base 10: 'Hello Bob'"
          ]
        }
      ]
    },
    {
      "cell_type": "code",
      "source": [
        "#try and except\n",
        "\n",
        "astr=\"Hello Bob\"\n",
        "try:\n",
        "  istr=int (astr)\n",
        "except:\n",
        "  istr=-1\n",
        "print(\"First\", istr)\n",
        "\n",
        "bstr=\"123\"\n",
        "try:\n",
        "  jstr=int (bstr)\n",
        "except:\n",
        "  jstr=-1\n",
        "print(\"Second\", jstr)\n"
      ],
      "metadata": {
        "colab": {
          "base_uri": "https://localhost:8080/"
        },
        "id": "t3t6N5YQMHoH",
        "outputId": "1920bdb4-cdd1-4e67-9432-e267deaf0d37"
      },
      "execution_count": 33,
      "outputs": [
        {
          "output_type": "stream",
          "name": "stdout",
          "text": [
            "First -1\n",
            "Second 123\n"
          ]
        }
      ]
    },
    {
      "cell_type": "code",
      "source": [
        "# built in functions\n",
        "big=max(\"hello world\")\n",
        "print(big) # o/p: w\n",
        "tiny=min(\"hello world\")\n",
        "print(tiny) # output is space"
      ],
      "metadata": {
        "colab": {
          "base_uri": "https://localhost:8080/"
        },
        "id": "Rebw1WlUNs1F",
        "outputId": "2c73a8f4-e368-44ca-f7db-b0623ff8b0b4"
      },
      "execution_count": 34,
      "outputs": [
        {
          "output_type": "stream",
          "name": "stdout",
          "text": [
            "w\n",
            " \n"
          ]
        }
      ]
    },
    {
      "cell_type": "code",
      "source": [
        "#Write a program to prompt the user for hours and rate per hour to compute gross pay\n",
        "Hour=int(input(\"Enter Hours: \"))\n",
        "Rate=float(input(\"Enter Rate: \"))\n",
        "Pay=Hour*Rate\n",
        "print(\"Pay: \",Pay)"
      ],
      "metadata": {
        "colab": {
          "base_uri": "https://localhost:8080/"
        },
        "id": "KA3ts63wPrLi",
        "outputId": "1b18aacf-5b81-4141-b127-d9cd51a07569"
      },
      "execution_count": 35,
      "outputs": [
        {
          "output_type": "stream",
          "name": "stdout",
          "text": [
            "Enter Hours: 2\n",
            "Enter Rate: 10\n",
            "Pay:  20.0\n"
          ]
        }
      ]
    },
    {
      "cell_type": "code",
      "source": [
        "# #Write a program to prompt the user for hours and rate per hour to compute gross pay using try and except\n",
        "\n",
        "\n",
        "try:\n",
        "    hours = float(input(\"Enter hours : \"))\n",
        "    rate = float(input(\"Enter rate: \"))\n",
        "    pay = hours * rate\n",
        "    print(\"pay: \",pay)\n",
        "\n",
        "except:\n",
        "    print(\"Error: Please enter valid numbers for hours and rate.\")\n",
        "\n",
        "\n",
        "\n",
        "#try:\n",
        "  #Hour=input(\"Enter Hours: \")\n",
        "  #if(Hour>=48 and Hour<=57):\n",
        "   # print(Hour)\n",
        "#except:\n",
        " # print(\"Enter a number\")\n",
        "\n",
        "#try:\n",
        " # Rate=input(\"Enter Rate: \")\n",
        "  #if(Hour>=48 and Hour<=57):\n",
        "    ##print(Hour)\n",
        "\n",
        "#Pay=Hour*Rate\n",
        "#print(\"Pay: \",Pay)'''\n"
      ],
      "metadata": {
        "colab": {
          "base_uri": "https://localhost:8080/"
        },
        "id": "ENUP6JQARACw",
        "outputId": "0f85b8f1-dbf1-441b-80db-d8045cdf6ff1"
      },
      "execution_count": 36,
      "outputs": [
        {
          "output_type": "stream",
          "name": "stdout",
          "text": [
            "Enter hours : 10\n",
            "Enter rate: 300\n",
            "pay:  3000.0\n"
          ]
        }
      ]
    },
    {
      "cell_type": "code",
      "source": [
        "n=0\n",
        "while(n>0):\n",
        "  print(\"Leather\")\n",
        "  print('Rinse')\n",
        "print('Dry off!')"
      ],
      "metadata": {
        "colab": {
          "base_uri": "https://localhost:8080/"
        },
        "id": "uqUXNyVNTXon",
        "outputId": "6a7ea108-4fef-40ef-a119-2003a00874a1"
      },
      "execution_count": 37,
      "outputs": [
        {
          "output_type": "stream",
          "name": "stdout",
          "text": [
            "Dry off!\n"
          ]
        }
      ]
    },
    {
      "cell_type": "code",
      "source": [
        "# finding the largest value\n",
        "largest_so_far=-1\n",
        "print(\"Before\", largest_so_far)\n",
        "for num in[9,41,12,3,74,15]:\n",
        "  if num>largest_so_far:\n",
        "    largest_so_far=num\n",
        "  print(largest_so_far,num)\n",
        "print('After', largest_so_far)"
      ],
      "metadata": {
        "colab": {
          "base_uri": "https://localhost:8080/"
        },
        "id": "4Y6JK6rPT1np",
        "outputId": "84b42bb5-2721-4e69-85c9-0dc7ebf4f358"
      },
      "execution_count": 38,
      "outputs": [
        {
          "output_type": "stream",
          "name": "stdout",
          "text": [
            "Before -1\n",
            "9 9\n",
            "41 41\n",
            "41 12\n",
            "41 3\n",
            "74 74\n",
            "74 15\n",
            "After 74\n"
          ]
        }
      ]
    },
    {
      "cell_type": "code",
      "source": [
        "# finding the smallest value\n",
        "smallest_so_far=100\n",
        "print(\"Before\", smallest_so_far)\n",
        "for num in[9,41,12,3,74,15]:\n",
        "  if num<smallest_so_far:\n",
        "    smallest_so_far=num\n",
        "  print(smallest_so_far,num)\n",
        "print('After', smallest_so_far)"
      ],
      "metadata": {
        "colab": {
          "base_uri": "https://localhost:8080/"
        },
        "id": "Qn1hNQaKUife",
        "outputId": "ec4918cc-1304-496b-991e-65079563b5de"
      },
      "execution_count": 39,
      "outputs": [
        {
          "output_type": "stream",
          "name": "stdout",
          "text": [
            "Before 100\n",
            "9 9\n",
            "9 41\n",
            "9 12\n",
            "3 3\n",
            "3 74\n",
            "3 15\n",
            "After 3\n"
          ]
        }
      ]
    },
    {
      "cell_type": "code",
      "source": [
        "#count elements and sum of elements\n",
        "#average\n",
        "#filtering number\n",
        "#searching  using boolean variable\n"
      ],
      "metadata": {
        "id": "G7VBQizQVmBo"
      },
      "execution_count": 40,
      "outputs": []
    },
    {
      "cell_type": "code",
      "source": [
        "#scipy\n",
        "#numpy-- data computation\n",
        "#pandas -- data manipulation'\n",
        "import scipy\n",
        "print('scipy: %s' % scipy.__version__)\n",
        "import numpy\n",
        "print('numpy: %s' % numpy.__version__)\n",
        "import pandas\n",
        "print('pandas: %s' % pandas.__version__)\n",
        "import statsmodels\n",
        "print('statsmodels: %s' % statsmodels.__version__)\n",
        "import sklearn\n",
        "print('sklearn: %s' % sklearn.__version__)\n",
        "\n"
      ],
      "metadata": {
        "colab": {
          "base_uri": "https://localhost:8080/"
        },
        "id": "T4U-L-fBWYKL",
        "outputId": "4b92eabe-2a9e-442d-e9f1-253490ce81ec"
      },
      "execution_count": 41,
      "outputs": [
        {
          "output_type": "stream",
          "name": "stdout",
          "text": [
            "scipy: 1.13.1\n",
            "numpy: 1.26.4\n",
            "pandas: 2.2.2\n",
            "statsmodels: 0.14.4\n",
            "sklearn: 1.5.2\n"
          ]
        }
      ]
    },
    {
      "cell_type": "code",
      "source": [
        "def add_num(a,b):\n",
        "  sum=a+b\n",
        "  return sum"
      ],
      "metadata": {
        "id": "7E1t4R_PXm6S"
      },
      "execution_count": 42,
      "outputs": []
    },
    {
      "cell_type": "code",
      "source": [
        "print(add_num(10,59))"
      ],
      "metadata": {
        "colab": {
          "base_uri": "https://localhost:8080/"
        },
        "id": "hBbxtoHBX4l9",
        "outputId": "9a07f980-7ec1-4ce3-aebf-2440db4890df"
      },
      "execution_count": 43,
      "outputs": [
        {
          "output_type": "stream",
          "name": "stdout",
          "text": [
            "69\n"
          ]
        }
      ]
    },
    {
      "cell_type": "code",
      "source": [
        "def add_num(x,y,z=None):\n",
        "  if(z==None):\n",
        "    return x+y\n",
        "  else:\n",
        "    return x+y+z"
      ],
      "metadata": {
        "id": "TR2rZNYhYGKT"
      },
      "execution_count": 44,
      "outputs": []
    },
    {
      "cell_type": "code",
      "source": [
        "print(add_num(10,59))"
      ],
      "metadata": {
        "colab": {
          "base_uri": "https://localhost:8080/"
        },
        "id": "DWNRDTb5YdPw",
        "outputId": "68df447b-932b-4a5b-a1de-68c1ece9736b"
      },
      "execution_count": 45,
      "outputs": [
        {
          "output_type": "stream",
          "name": "stdout",
          "text": [
            "69\n"
          ]
        }
      ]
    },
    {
      "cell_type": "code",
      "source": [
        "def add_num(x,y,z=None,flag=False):\n",
        "  if(flag):\n",
        "    print(\"flag is on\")\n",
        "  elif(z==None):\n",
        "    return x+y\n",
        "  else:\n",
        "    return x+y+z"
      ],
      "metadata": {
        "id": "vA7Fx_BHYsr7"
      },
      "execution_count": 46,
      "outputs": []
    },
    {
      "cell_type": "code",
      "source": [
        "a=add_num\n",
        "print(a(10,59,flag=True))"
      ],
      "metadata": {
        "colab": {
          "base_uri": "https://localhost:8080/"
        },
        "id": "3q3F_-rLY-O-",
        "outputId": "61157d9f-34ef-40ac-a487-7bed5b96a849"
      },
      "execution_count": 47,
      "outputs": [
        {
          "output_type": "stream",
          "name": "stdout",
          "text": [
            "flag is on\n",
            "None\n"
          ]
        }
      ]
    },
    {
      "cell_type": "code",
      "source": [
        "type(add_num)\n"
      ],
      "metadata": {
        "colab": {
          "base_uri": "https://localhost:8080/"
        },
        "id": "z3m-4X3LZM6h",
        "outputId": "ad93bc59-912d-4253-81d2-d3b7ce6f640e"
      },
      "execution_count": 48,
      "outputs": [
        {
          "output_type": "execute_result",
          "data": {
            "text/plain": [
              "function"
            ]
          },
          "metadata": {},
          "execution_count": 48
        }
      ]
    },
    {
      "cell_type": "code",
      "source": [
        "x=(1,'a',2)\n",
        "type(x)"
      ],
      "metadata": {
        "colab": {
          "base_uri": "https://localhost:8080/"
        },
        "id": "o7GJcsJfZf3E",
        "outputId": "61e7378e-1bf0-469b-c51e-4d884dec2f5b"
      },
      "execution_count": 49,
      "outputs": [
        {
          "output_type": "execute_result",
          "data": {
            "text/plain": [
              "tuple"
            ]
          },
          "metadata": {},
          "execution_count": 49
        }
      ]
    },
    {
      "cell_type": "code",
      "source": [
        "x.append(2.2)"
      ],
      "metadata": {
        "colab": {
          "base_uri": "https://localhost:8080/",
          "height": 141
        },
        "id": "zH2mbDxKZluv",
        "outputId": "dff66933-c0ab-417b-de19-b6019719a087"
      },
      "execution_count": 50,
      "outputs": [
        {
          "output_type": "error",
          "ename": "AttributeError",
          "evalue": "'tuple' object has no attribute 'append'",
          "traceback": [
            "\u001b[0;31m---------------------------------------------------------------------------\u001b[0m",
            "\u001b[0;31mAttributeError\u001b[0m                            Traceback (most recent call last)",
            "\u001b[0;32m<ipython-input-50-43ffe3cd3e96>\u001b[0m in \u001b[0;36m<cell line: 1>\u001b[0;34m()\u001b[0m\n\u001b[0;32m----> 1\u001b[0;31m \u001b[0mx\u001b[0m\u001b[0;34m.\u001b[0m\u001b[0mappend\u001b[0m\u001b[0;34m(\u001b[0m\u001b[0;36m2.2\u001b[0m\u001b[0;34m)\u001b[0m\u001b[0;34m\u001b[0m\u001b[0;34m\u001b[0m\u001b[0m\n\u001b[0m",
            "\u001b[0;31mAttributeError\u001b[0m: 'tuple' object has no attribute 'append'"
          ]
        }
      ]
    },
    {
      "cell_type": "code",
      "source": [
        "x=[1,'a',2]\n",
        "type(x)"
      ],
      "metadata": {
        "colab": {
          "base_uri": "https://localhost:8080/"
        },
        "id": "o5LtgUouZrfP",
        "outputId": "958598e5-253a-4911-f237-44658ea04fa5"
      },
      "execution_count": 51,
      "outputs": [
        {
          "output_type": "execute_result",
          "data": {
            "text/plain": [
              "list"
            ]
          },
          "metadata": {},
          "execution_count": 51
        }
      ]
    },
    {
      "cell_type": "code",
      "source": [
        "x.append(2.2)"
      ],
      "metadata": {
        "id": "S9VJiNWvZvq_"
      },
      "execution_count": 52,
      "outputs": []
    },
    {
      "cell_type": "code",
      "source": [
        "print(x)"
      ],
      "metadata": {
        "colab": {
          "base_uri": "https://localhost:8080/"
        },
        "id": "42xffQdiZyIa",
        "outputId": "f81f7312-92d2-4a10-ffaa-f9a7ca8b1179"
      },
      "execution_count": 53,
      "outputs": [
        {
          "output_type": "stream",
          "name": "stdout",
          "text": [
            "[1, 'a', 2, 2.2]\n"
          ]
        }
      ]
    },
    {
      "cell_type": "code",
      "source": [
        "for item in x:\n",
        "  print(item)"
      ],
      "metadata": {
        "colab": {
          "base_uri": "https://localhost:8080/"
        },
        "id": "KNrp-8DzZ2HC",
        "outputId": "108083e5-8955-4094-912a-45197f9f1bc0"
      },
      "execution_count": 54,
      "outputs": [
        {
          "output_type": "stream",
          "name": "stdout",
          "text": [
            "1\n",
            "a\n",
            "2\n",
            "2.2\n"
          ]
        }
      ]
    },
    {
      "cell_type": "code",
      "source": [
        "#length function\n",
        "len(x)"
      ],
      "metadata": {
        "colab": {
          "base_uri": "https://localhost:8080/"
        },
        "id": "kj7umNDAaIkX",
        "outputId": "0398b04d-2305-49d4-9733-c6f7318dc24a"
      },
      "execution_count": 55,
      "outputs": [
        {
          "output_type": "execute_result",
          "data": {
            "text/plain": [
              "4"
            ]
          },
          "metadata": {},
          "execution_count": 55
        }
      ]
    },
    {
      "cell_type": "code",
      "source": [
        "#using index operator\n",
        "#using while loop\n",
        "i=0\n",
        "while(i!=len(x)):\n",
        "  print(x[i])\n",
        "  i=i+1"
      ],
      "metadata": {
        "colab": {
          "base_uri": "https://localhost:8080/"
        },
        "id": "F2h6HPcyaRR7",
        "outputId": "c7ea5687-f446-4b10-d62d-ebcdcc52537f"
      },
      "execution_count": 56,
      "outputs": [
        {
          "output_type": "stream",
          "name": "stdout",
          "text": [
            "1\n",
            "a\n",
            "2\n",
            "2.2\n"
          ]
        }
      ]
    },
    {
      "cell_type": "code",
      "source": [
        "#concatenate list\n",
        "[1,2]+[3,4]"
      ],
      "metadata": {
        "colab": {
          "base_uri": "https://localhost:8080/"
        },
        "id": "v1sxQ0jmanN1",
        "outputId": "7282c4b6-a09d-46ff-fe1b-b3b1293b225d"
      },
      "execution_count": 57,
      "outputs": [
        {
          "output_type": "execute_result",
          "data": {
            "text/plain": [
              "[1, 2, 3, 4]"
            ]
          },
          "metadata": {},
          "execution_count": 57
        }
      ]
    },
    {
      "cell_type": "code",
      "source": [
        "# appending is not possible in tuple but concatenation possible\n",
        "(1,2)+(3,4)"
      ],
      "metadata": {
        "colab": {
          "base_uri": "https://localhost:8080/"
        },
        "id": "JvJKEu9mau8J",
        "outputId": "daf67fb9-cda1-480a-f28d-9efae3987c4e"
      },
      "execution_count": 58,
      "outputs": [
        {
          "output_type": "execute_result",
          "data": {
            "text/plain": [
              "(1, 2, 3, 4)"
            ]
          },
          "metadata": {},
          "execution_count": 58
        }
      ]
    },
    {
      "cell_type": "code",
      "source": [
        "#use * to repeat lists\n",
        "x=[10,1,3.3]\n",
        "[10, 1,3.3]*3\n",
        "#[10,10,10,1,1,1,3.3,3.3,3.3]\n",
        "\n",
        "# import numpy as np\n",
        "# r=np.repeat(x,3)\n",
        "# print(r)\n"
      ],
      "metadata": {
        "colab": {
          "base_uri": "https://localhost:8080/"
        },
        "id": "_b_khkocaseB",
        "outputId": "b4d2fc2c-3570-4b0b-8c51-4de44db9649e"
      },
      "execution_count": 59,
      "outputs": [
        {
          "output_type": "execute_result",
          "data": {
            "text/plain": [
              "[10, 1, 3.3, 10, 1, 3.3, 10, 1, 3.3]"
            ]
          },
          "metadata": {},
          "execution_count": 59
        }
      ]
    },
    {
      "cell_type": "code",
      "source": [
        "import numpy as np\n",
        "x=[10,1,3.3]\n",
        "r=np.repeat(x,3)\n",
        "print(r)\n",
        "\n"
      ],
      "metadata": {
        "colab": {
          "base_uri": "https://localhost:8080/"
        },
        "id": "i9M1q4OIKSJn",
        "outputId": "59b8645a-0340-463e-ae01-9b2b20335a09"
      },
      "execution_count": 60,
      "outputs": [
        {
          "output_type": "stream",
          "name": "stdout",
          "text": [
            "[10.  10.  10.   1.   1.   1.   3.3  3.3  3.3]\n"
          ]
        }
      ]
    },
    {
      "cell_type": "code",
      "source": [
        "#use the in operator to check if something is inside a list\n",
        "3 in [1,2,3,4,5]"
      ],
      "metadata": {
        "colab": {
          "base_uri": "https://localhost:8080/"
        },
        "id": "fpqHGrZJbFcB",
        "outputId": "a5c96217-6018-4264-a46b-a85a1c749d6d"
      },
      "execution_count": 61,
      "outputs": [
        {
          "output_type": "execute_result",
          "data": {
            "text/plain": [
              "True"
            ]
          },
          "metadata": {},
          "execution_count": 61
        }
      ]
    },
    {
      "cell_type": "markdown",
      "source": [
        "**#20/8/24** **lab session**"
      ],
      "metadata": {
        "id": "deQ1DDuRht8n"
      }
    },
    {
      "cell_type": "code",
      "source": [
        "#string use bracket notation to slice a string\n",
        "x='This is a string'"
      ],
      "metadata": {
        "id": "SfOpkwPDbwaa"
      },
      "execution_count": 62,
      "outputs": []
    },
    {
      "cell_type": "code",
      "source": [
        "print(x[0]) # 1st character"
      ],
      "metadata": {
        "colab": {
          "base_uri": "https://localhost:8080/"
        },
        "id": "mwOw4LVBKjFu",
        "outputId": "95552ff2-c14a-4516-c7d0-ca132df40467"
      },
      "execution_count": 63,
      "outputs": [
        {
          "output_type": "stream",
          "name": "stdout",
          "text": [
            "T\n"
          ]
        }
      ]
    },
    {
      "cell_type": "code",
      "source": [
        "# 1t character , but we have explicitly set the end character\n",
        "print(x[0:1])"
      ],
      "metadata": {
        "colab": {
          "base_uri": "https://localhost:8080/"
        },
        "id": "_KdTWbPCKjSX",
        "outputId": "76137e7d-1b4a-4191-b9bf-febb4214c58e"
      },
      "execution_count": 64,
      "outputs": [
        {
          "output_type": "stream",
          "name": "stdout",
          "text": [
            "T\n"
          ]
        }
      ]
    },
    {
      "cell_type": "code",
      "source": [
        "print (x[0:2])"
      ],
      "metadata": {
        "colab": {
          "base_uri": "https://localhost:8080/"
        },
        "id": "_UZJ8GwCKjbO",
        "outputId": "843871c2-82bf-401c-da3c-a4d851a7f19b"
      },
      "execution_count": 65,
      "outputs": [
        {
          "output_type": "stream",
          "name": "stdout",
          "text": [
            "Th\n"
          ]
        }
      ]
    },
    {
      "cell_type": "code",
      "source": [
        "# this will return the last element of the string\n",
        "print(x[-1])"
      ],
      "metadata": {
        "colab": {
          "base_uri": "https://localhost:8080/"
        },
        "id": "vuWXr5C2Ls8Q",
        "outputId": "85acabb3-291d-4759-883f-5f133dd6fb53"
      },
      "execution_count": 66,
      "outputs": [
        {
          "output_type": "stream",
          "name": "stdout",
          "text": [
            "g\n"
          ]
        }
      ]
    },
    {
      "cell_type": "code",
      "source": [
        "x[-4:-2]\n"
      ],
      "metadata": {
        "colab": {
          "base_uri": "https://localhost:8080/",
          "height": 35
        },
        "id": "-NmogFtzLs-x",
        "outputId": "08444c56-548f-4703-f8fd-7c1290d883c4"
      },
      "execution_count": 67,
      "outputs": [
        {
          "output_type": "execute_result",
          "data": {
            "text/plain": [
              "'ri'"
            ],
            "application/vnd.google.colaboratory.intrinsic+json": {
              "type": "string"
            }
          },
          "metadata": {},
          "execution_count": 67
        }
      ]
    },
    {
      "cell_type": "code",
      "source": [
        "x[-4:-3]"
      ],
      "metadata": {
        "colab": {
          "base_uri": "https://localhost:8080/",
          "height": 35
        },
        "id": "bN_HOWP_MQmS",
        "outputId": "73bc5d4b-c7d0-4714-9fd8-c9c027deaaff"
      },
      "execution_count": 68,
      "outputs": [
        {
          "output_type": "execute_result",
          "data": {
            "text/plain": [
              "'r'"
            ],
            "application/vnd.google.colaboratory.intrinsic+json": {
              "type": "string"
            }
          },
          "metadata": {},
          "execution_count": 68
        }
      ]
    },
    {
      "cell_type": "code",
      "source": [
        "x[:3]"
      ],
      "metadata": {
        "colab": {
          "base_uri": "https://localhost:8080/",
          "height": 35
        },
        "id": "Df1gW6pdKjhG",
        "outputId": "8fee1175-beb6-4b3c-889c-978219b64d8b"
      },
      "execution_count": 69,
      "outputs": [
        {
          "output_type": "execute_result",
          "data": {
            "text/plain": [
              "'Thi'"
            ],
            "application/vnd.google.colaboratory.intrinsic+json": {
              "type": "string"
            }
          },
          "metadata": {},
          "execution_count": 69
        }
      ]
    },
    {
      "cell_type": "code",
      "source": [
        "x[3:]"
      ],
      "metadata": {
        "colab": {
          "base_uri": "https://localhost:8080/",
          "height": 35
        },
        "id": "oGlamxC6Kjm2",
        "outputId": "f3f6d7b2-587b-4bf8-c6c5-96c2a00180c0"
      },
      "execution_count": 70,
      "outputs": [
        {
          "output_type": "execute_result",
          "data": {
            "text/plain": [
              "'s is a string'"
            ],
            "application/vnd.google.colaboratory.intrinsic+json": {
              "type": "string"
            }
          },
          "metadata": {},
          "execution_count": 70
        }
      ]
    },
    {
      "cell_type": "code",
      "source": [
        "firstname='MSIS'\n",
        "lastname='Manipal'"
      ],
      "metadata": {
        "id": "zjn1-JXpMyLP"
      },
      "execution_count": 71,
      "outputs": []
    },
    {
      "cell_type": "code",
      "source": [
        "print(firstname +''+lastname)"
      ],
      "metadata": {
        "colab": {
          "base_uri": "https://localhost:8080/"
        },
        "id": "LfBtX_vvMyN_",
        "outputId": "a5a43325-9304-4c37-9583-f4a229d79143"
      },
      "execution_count": 72,
      "outputs": [
        {
          "output_type": "stream",
          "name": "stdout",
          "text": [
            "MSISManipal\n"
          ]
        }
      ]
    },
    {
      "cell_type": "code",
      "source": [
        "print(firstname*3)"
      ],
      "metadata": {
        "colab": {
          "base_uri": "https://localhost:8080/"
        },
        "id": "i7u13fFONDLV",
        "outputId": "47e5142b-ca23-458a-ba1f-b1c045b08986"
      },
      "execution_count": 73,
      "outputs": [
        {
          "output_type": "stream",
          "name": "stdout",
          "text": [
            "MSISMSISMSIS\n"
          ]
        }
      ]
    },
    {
      "cell_type": "code",
      "source": [
        "print('is' in firstname)\n",
        "# MSIS -- flase bcz of case sensitive"
      ],
      "metadata": {
        "colab": {
          "base_uri": "https://localhost:8080/"
        },
        "id": "SFFb0f2hNLgV",
        "outputId": "68e4c48d-399d-4f43-aab3-e68c3a9e16ae"
      },
      "execution_count": 74,
      "outputs": [
        {
          "output_type": "stream",
          "name": "stdout",
          "text": [
            "False\n"
          ]
        }
      ]
    },
    {
      "cell_type": "code",
      "source": [
        "print('IS' in firstname)"
      ],
      "metadata": {
        "colab": {
          "base_uri": "https://localhost:8080/"
        },
        "id": "2OsXBWIxNDTl",
        "outputId": "2082c0fa-d067-47c2-b89e-5e43439d61b5"
      },
      "execution_count": 75,
      "outputs": [
        {
          "output_type": "stream",
          "name": "stdout",
          "text": [
            "True\n"
          ]
        }
      ]
    },
    {
      "cell_type": "code",
      "source": [
        "#split returns a list of all the words in a string, or a list split on a specific character\n",
        "firstname='Tom Mitchell Machine Learning Scientist'.split(' ')[0]\n",
        "#[0] selects the first element of the list\n",
        "middlename='Tom Mitchell Machine Learning Scientist'.split(' ')[1]\n",
        "lastname= 'Tom Mitchell Machine Learning Scientist'.split(' ')[-1]\n",
        "# [-1] selects the last element of the list"
      ],
      "metadata": {
        "id": "nW2zGa2SNDWY"
      },
      "execution_count": 76,
      "outputs": []
    },
    {
      "cell_type": "code",
      "source": [
        "print(firstname)\n",
        "print(middlename)\n",
        "print(lastname)"
      ],
      "metadata": {
        "colab": {
          "base_uri": "https://localhost:8080/"
        },
        "id": "l-HE12yuNef8",
        "outputId": "652575a9-2f47-42c9-f375-94f1ea3801da"
      },
      "execution_count": 77,
      "outputs": [
        {
          "output_type": "stream",
          "name": "stdout",
          "text": [
            "Tom\n",
            "Mitchell\n",
            "Scientist\n"
          ]
        }
      ]
    },
    {
      "cell_type": "code",
      "source": [
        "print(firstname+' '+middlename+' '+lastname)"
      ],
      "metadata": {
        "colab": {
          "base_uri": "https://localhost:8080/"
        },
        "id": "8Kezz9KmOqSZ",
        "outputId": "454b5755-9706-4c31-c7f8-2f7a9d238297"
      },
      "execution_count": 78,
      "outputs": [
        {
          "output_type": "stream",
          "name": "stdout",
          "text": [
            "Tom Mitchell Scientist\n"
          ]
        }
      ]
    },
    {
      "cell_type": "code",
      "source": [
        "lastname= 'Tom Mitchell Machine Learning Scientist'.split('M')\n",
        "print(lastname)\n",
        "lastname= 'Tom Mitchell Machine Learning Scientist'.split('M')[-1]\n",
        "print(lastname)"
      ],
      "metadata": {
        "colab": {
          "base_uri": "https://localhost:8080/"
        },
        "id": "Db-voZDhNeii",
        "outputId": "7518f1c1-e42b-4049-e281-1ec901e3f352"
      },
      "execution_count": 79,
      "outputs": [
        {
          "output_type": "stream",
          "name": "stdout",
          "text": [
            "['Tom ', 'itchell ', 'achine Learning Scientist']\n",
            "achine Learning Scientist\n"
          ]
        }
      ]
    },
    {
      "cell_type": "code",
      "source": [
        "\n",
        "#we cannot conctenate string anmd integer\n",
        "# Make sure you convert objects to strings before concatenanting\n",
        "'Chris'+'2'\n"
      ],
      "metadata": {
        "colab": {
          "base_uri": "https://localhost:8080/",
          "height": 35
        },
        "id": "YXHdpH3gNekp",
        "outputId": "1519fe05-4bea-495e-a008-5d293cf01f14"
      },
      "execution_count": 80,
      "outputs": [
        {
          "output_type": "execute_result",
          "data": {
            "text/plain": [
              "'Chris2'"
            ],
            "application/vnd.google.colaboratory.intrinsic+json": {
              "type": "string"
            }
          },
          "metadata": {},
          "execution_count": 80
        }
      ]
    },
    {
      "cell_type": "code",
      "source": [
        "'Chris'+str(2)"
      ],
      "metadata": {
        "colab": {
          "base_uri": "https://localhost:8080/",
          "height": 35
        },
        "id": "rwSbd1ZsNem_",
        "outputId": "18ad8835-3582-4142-ec4d-652ad407056b"
      },
      "execution_count": 81,
      "outputs": [
        {
          "output_type": "execute_result",
          "data": {
            "text/plain": [
              "'Chris2'"
            ],
            "application/vnd.google.colaboratory.intrinsic+json": {
              "type": "string"
            }
          },
          "metadata": {},
          "execution_count": 81
        }
      ]
    },
    {
      "cell_type": "code",
      "source": [
        "# Dictionaries associate keys with values\n",
        "x={'Tom': 'tom.m@gmu.org', 'Bill Gates':'billg@microsoft.com'}"
      ],
      "metadata": {
        "id": "u6Y00kGFNepN"
      },
      "execution_count": 82,
      "outputs": []
    },
    {
      "cell_type": "code",
      "source": [
        "type(x)"
      ],
      "metadata": {
        "colab": {
          "base_uri": "https://localhost:8080/"
        },
        "id": "DixN_KPCNert",
        "outputId": "22136e2b-874b-4efa-ccb0-809f35e6897f"
      },
      "execution_count": 83,
      "outputs": [
        {
          "output_type": "execute_result",
          "data": {
            "text/plain": [
              "dict"
            ]
          },
          "metadata": {},
          "execution_count": 83
        }
      ]
    },
    {
      "cell_type": "code",
      "source": [
        "#retrieve a value by using the index operator\n",
        "\n",
        "x['Bill Gates']"
      ],
      "metadata": {
        "colab": {
          "base_uri": "https://localhost:8080/",
          "height": 35
        },
        "id": "vyBlCfEsNDYo",
        "outputId": "0c481c1c-d079-433e-9f7d-58e817750e0c"
      },
      "execution_count": 84,
      "outputs": [
        {
          "output_type": "execute_result",
          "data": {
            "text/plain": [
              "'billg@microsoft.com'"
            ],
            "application/vnd.google.colaboratory.intrinsic+json": {
              "type": "string"
            }
          },
          "metadata": {},
          "execution_count": 84
        }
      ]
    },
    {
      "cell_type": "code",
      "source": [
        "#cannot get key from values\n",
        "x['billg@microsoft.com']"
      ],
      "metadata": {
        "colab": {
          "base_uri": "https://localhost:8080/",
          "height": 159
        },
        "id": "ZGji2YNDQUgw",
        "outputId": "6149afc3-9626-4f30-c918-cbf4c3a32db0"
      },
      "execution_count": 85,
      "outputs": [
        {
          "output_type": "error",
          "ename": "KeyError",
          "evalue": "'billg@microsoft.com'",
          "traceback": [
            "\u001b[0;31m---------------------------------------------------------------------------\u001b[0m",
            "\u001b[0;31mKeyError\u001b[0m                                  Traceback (most recent call last)",
            "\u001b[0;32m<ipython-input-85-020cdff8c8b7>\u001b[0m in \u001b[0;36m<cell line: 2>\u001b[0;34m()\u001b[0m\n\u001b[1;32m      1\u001b[0m \u001b[0;31m#cannot get key from values\u001b[0m\u001b[0;34m\u001b[0m\u001b[0;34m\u001b[0m\u001b[0m\n\u001b[0;32m----> 2\u001b[0;31m \u001b[0mx\u001b[0m\u001b[0;34m[\u001b[0m\u001b[0;34m'billg@microsoft.com'\u001b[0m\u001b[0;34m]\u001b[0m\u001b[0;34m\u001b[0m\u001b[0;34m\u001b[0m\u001b[0m\n\u001b[0m",
            "\u001b[0;31mKeyError\u001b[0m: 'billg@microsoft.com'"
          ]
        }
      ]
    },
    {
      "cell_type": "code",
      "source": [
        "#add new key, value\n",
        "x['Thompson']='mit@ua.edu'"
      ],
      "metadata": {
        "id": "b1JzaSTDQUje"
      },
      "execution_count": 86,
      "outputs": []
    },
    {
      "cell_type": "code",
      "source": [
        "print(x)"
      ],
      "metadata": {
        "colab": {
          "base_uri": "https://localhost:8080/"
        },
        "id": "HMFKH5AAQa7f",
        "outputId": "c87d4d70-cc75-40bb-e296-6f8702c4eb50"
      },
      "execution_count": 87,
      "outputs": [
        {
          "output_type": "stream",
          "name": "stdout",
          "text": [
            "{'Tom': 'tom.m@gmu.org', 'Bill Gates': 'billg@microsoft.com', 'Thompson': 'mit@ua.edu'}\n"
          ]
        }
      ]
    },
    {
      "cell_type": "code",
      "source": [
        "x"
      ],
      "metadata": {
        "colab": {
          "base_uri": "https://localhost:8080/"
        },
        "id": "6q4nZg56QvPg",
        "outputId": "911a9b5b-7d84-4259-cd59-16702caa71c2"
      },
      "execution_count": 88,
      "outputs": [
        {
          "output_type": "execute_result",
          "data": {
            "text/plain": [
              "{'Tom': 'tom.m@gmu.org',\n",
              " 'Bill Gates': 'billg@microsoft.com',\n",
              " 'Thompson': 'mit@ua.edu'}"
            ]
          },
          "metadata": {},
          "execution_count": 88
        }
      ]
    },
    {
      "cell_type": "code",
      "source": [
        "#Iterate over all of the keys:\n",
        "#print only names/keys\n",
        "for name in x:\n",
        "  print(name)"
      ],
      "metadata": {
        "colab": {
          "base_uri": "https://localhost:8080/"
        },
        "id": "7ogkWYISQa-I",
        "outputId": "c4255e57-76b1-4624-f3a7-a2345e78fa7b"
      },
      "execution_count": 89,
      "outputs": [
        {
          "output_type": "stream",
          "name": "stdout",
          "text": [
            "Tom\n",
            "Bill Gates\n",
            "Thompson\n"
          ]
        }
      ]
    },
    {
      "cell_type": "code",
      "source": [
        "#print values ofthe corresponding keys eg :mail-ids\n",
        "for name in x:\n",
        "  print(x[name])"
      ],
      "metadata": {
        "colab": {
          "base_uri": "https://localhost:8080/"
        },
        "id": "B4ViL9KxRHOP",
        "outputId": "37b224a4-72e7-4962-f1bd-b05c6f31bc5c"
      },
      "execution_count": 90,
      "outputs": [
        {
          "output_type": "stream",
          "name": "stdout",
          "text": [
            "tom.m@gmu.org\n",
            "billg@microsoft.com\n",
            "mit@ua.edu\n"
          ]
        }
      ]
    },
    {
      "cell_type": "code",
      "source": [
        "#other way to iterate over all the values\n",
        "for email in x.values():\n",
        "  print(email)"
      ],
      "metadata": {
        "colab": {
          "base_uri": "https://localhost:8080/"
        },
        "id": "o5kK2dRSQUoA",
        "outputId": "22c6dc61-3b02-414f-e0bf-defdef315f83"
      },
      "execution_count": 91,
      "outputs": [
        {
          "output_type": "stream",
          "name": "stdout",
          "text": [
            "tom.m@gmu.org\n",
            "billg@microsoft.com\n",
            "mit@ua.edu\n"
          ]
        }
      ]
    },
    {
      "cell_type": "code",
      "source": [
        "# iterate over all of the items in the list\n",
        "for name in x.items():\n",
        "  print(name)\n"
      ],
      "metadata": {
        "colab": {
          "base_uri": "https://localhost:8080/"
        },
        "id": "xuB8ILOzQUqg",
        "outputId": "41405d92-c2fb-4f31-dad3-d61531104ce6"
      },
      "execution_count": 92,
      "outputs": [
        {
          "output_type": "stream",
          "name": "stdout",
          "text": [
            "('Tom', 'tom.m@gmu.org')\n",
            "('Bill Gates', 'billg@microsoft.com')\n",
            "('Thompson', 'mit@ua.edu')\n"
          ]
        }
      ]
    },
    {
      "cell_type": "code",
      "source": [
        "# iterate over all of the items in the list\n",
        "for name,email in x.items():\n",
        "  print(name)\n",
        "  print(email)"
      ],
      "metadata": {
        "colab": {
          "base_uri": "https://localhost:8080/"
        },
        "id": "0l720QF-RlLn",
        "outputId": "b06a897c-7ab2-47cd-ca83-3d71e6549a5f"
      },
      "execution_count": 93,
      "outputs": [
        {
          "output_type": "stream",
          "name": "stdout",
          "text": [
            "Tom\n",
            "tom.m@gmu.org\n",
            "Bill Gates\n",
            "billg@microsoft.com\n",
            "Thompson\n",
            "mit@ua.edu\n"
          ]
        }
      ]
    },
    {
      "cell_type": "code",
      "source": [
        "# you can unpack a sequence into different variables:\n",
        "x=('Tom', 'Michel', 'tom.m@gmu.org')\n",
        "fname,lname,email=x"
      ],
      "metadata": {
        "id": "eiWzERnCRlOG"
      },
      "execution_count": 94,
      "outputs": []
    },
    {
      "cell_type": "code",
      "source": [
        "\n",
        "lname"
      ],
      "metadata": {
        "colab": {
          "base_uri": "https://localhost:8080/",
          "height": 35
        },
        "id": "PVZOI4BnRlRO",
        "outputId": "11066a14-cfac-477b-ff20-476d18d5e67e"
      },
      "execution_count": 95,
      "outputs": [
        {
          "output_type": "execute_result",
          "data": {
            "text/plain": [
              "'Michel'"
            ],
            "application/vnd.google.colaboratory.intrinsic+json": {
              "type": "string"
            }
          },
          "metadata": {},
          "execution_count": 95
        }
      ]
    },
    {
      "cell_type": "code",
      "source": [
        "fname"
      ],
      "metadata": {
        "colab": {
          "base_uri": "https://localhost:8080/",
          "height": 35
        },
        "id": "b5eeR18XSkqC",
        "outputId": "55cb7095-d180-4ab5-92b3-1042a9a83f9d"
      },
      "execution_count": 96,
      "outputs": [
        {
          "output_type": "execute_result",
          "data": {
            "text/plain": [
              "'Tom'"
            ],
            "application/vnd.google.colaboratory.intrinsic+json": {
              "type": "string"
            }
          },
          "metadata": {},
          "execution_count": 96
        }
      ]
    },
    {
      "cell_type": "code",
      "source": [
        "email"
      ],
      "metadata": {
        "colab": {
          "base_uri": "https://localhost:8080/",
          "height": 35
        },
        "id": "yV-2dJZlSktF",
        "outputId": "cc56dba0-1098-449d-be6f-88557c49640f"
      },
      "execution_count": 97,
      "outputs": [
        {
          "output_type": "execute_result",
          "data": {
            "text/plain": [
              "'tom.m@gmu.org'"
            ],
            "application/vnd.google.colaboratory.intrinsic+json": {
              "type": "string"
            }
          },
          "metadata": {},
          "execution_count": 97
        }
      ]
    },
    {
      "cell_type": "code",
      "source": [
        "#make sure that maintain order here\n",
        "x=('Tom', 'Michel', 'tom.m@gmu.org','ca')\n",
        "fname,lname,email,cname=x"
      ],
      "metadata": {
        "id": "PwGdOGRMSkwf"
      },
      "execution_count": 98,
      "outputs": []
    },
    {
      "cell_type": "code",
      "source": [
        "cname\n"
      ],
      "metadata": {
        "colab": {
          "base_uri": "https://localhost:8080/",
          "height": 35
        },
        "id": "kcMTeRtVSkzK",
        "outputId": "ce1dcffb-6cf5-4bdd-b2e4-11fb6cc16d60"
      },
      "execution_count": 99,
      "outputs": [
        {
          "output_type": "execute_result",
          "data": {
            "text/plain": [
              "'ca'"
            ],
            "application/vnd.google.colaboratory.intrinsic+json": {
              "type": "string"
            }
          },
          "metadata": {},
          "execution_count": 99
        }
      ]
    },
    {
      "cell_type": "code",
      "source": [
        "#python has a built in method for convenient string formatting\n"
      ],
      "metadata": {
        "id": "KNmdZowoS18-"
      },
      "execution_count": 100,
      "outputs": []
    },
    {
      "cell_type": "code",
      "source": [
        "sales_record={\n",
        "    'price':3.24,\n",
        "    'num_items':4,\n",
        "    'person':'Tom',\n",
        "    'email':'tom@ua.edu'\n",
        "}"
      ],
      "metadata": {
        "id": "MB05BT92S2AC"
      },
      "execution_count": 101,
      "outputs": []
    },
    {
      "cell_type": "code",
      "source": [
        "sales_statement='{} bought {} item(s) at a price of INR {} each for a total of INR {}'"
      ],
      "metadata": {
        "id": "VbaxxnSQT_UN"
      },
      "execution_count": 102,
      "outputs": []
    },
    {
      "cell_type": "code",
      "source": [
        "print(sales_statement.format(sales_record['person'],\n",
        "                             sales_record['num_items'],\n",
        "                             sales_record['price'],\n",
        "                             sales_record['num_items']*sales_record['price']))"
      ],
      "metadata": {
        "colab": {
          "base_uri": "https://localhost:8080/"
        },
        "id": "GgCautDtS2Ce",
        "outputId": "b27ba3a2-75b8-41d1-a3fd-b2f1f52d3c23"
      },
      "execution_count": 103,
      "outputs": [
        {
          "output_type": "stream",
          "name": "stdout",
          "text": [
            "Tom bought 4 item(s) at a price of INR 3.24 each for a total of INR 12.96\n"
          ]
        }
      ]
    },
    {
      "cell_type": "code",
      "source": [
        "import datetime as dt\n",
        "import time as tm\n"
      ],
      "metadata": {
        "id": "LvCGEdSeS2E5"
      },
      "execution_count": 104,
      "outputs": []
    },
    {
      "cell_type": "code",
      "source": [
        "#time returns the currect time in seconds since the Epoch.(January 1st,1970)\n",
        "#time in seconds from 1st jan 1970\n",
        "tm.time()"
      ],
      "metadata": {
        "colab": {
          "base_uri": "https://localhost:8080/"
        },
        "id": "5tXj-ztPS2HT",
        "outputId": "eb5c6923-dfcc-47c0-85ae-db38f34144ab"
      },
      "execution_count": 105,
      "outputs": [
        {
          "output_type": "execute_result",
          "data": {
            "text/plain": [
              "1728658146.599642"
            ]
          },
          "metadata": {},
          "execution_count": 105
        }
      ]
    },
    {
      "cell_type": "code",
      "source": [
        "from datetime import date\n",
        "from datetime import time\n",
        "from datetime import datetime"
      ],
      "metadata": {
        "id": "juofzYo7S2JQ"
      },
      "execution_count": 106,
      "outputs": []
    },
    {
      "cell_type": "code",
      "source": [
        "today=date.today()\n",
        "print('today date is', today)"
      ],
      "metadata": {
        "colab": {
          "base_uri": "https://localhost:8080/"
        },
        "id": "kdMHc9VPS2L1",
        "outputId": "42e75a21-78ba-4284-9f70-bc4f366c3830"
      },
      "execution_count": 107,
      "outputs": [
        {
          "output_type": "stream",
          "name": "stdout",
          "text": [
            "today date is 2024-10-11\n"
          ]
        }
      ]
    },
    {
      "cell_type": "code",
      "source": [
        "#convert the timestamp to date time\n",
        "dtnow=dt.datetime.fromtimestamp(tm.time())\n",
        "dtnow\n",
        "#time is server time\n",
        "# datetime.datetime(2024-year, 8-month, 20-day, 5-hour, 53-minute, 20-seconds, 367401-miliseconds)"
      ],
      "metadata": {
        "colab": {
          "base_uri": "https://localhost:8080/"
        },
        "id": "pZR-QzzfS2OL",
        "outputId": "462652d2-f00d-493b-de77-b94bb93c5cac"
      },
      "execution_count": 108,
      "outputs": [
        {
          "output_type": "execute_result",
          "data": {
            "text/plain": [
              "datetime.datetime(2024, 10, 11, 14, 49, 6, 633194)"
            ]
          },
          "metadata": {},
          "execution_count": 108
        }
      ]
    },
    {
      "cell_type": "code",
      "source": [
        "#Handy datetime attributes:\n",
        "dtnow.year,dtnow.month,dtnow.day,dtnow.hour,dtnow.minute,dtnow.second"
      ],
      "metadata": {
        "colab": {
          "base_uri": "https://localhost:8080/"
        },
        "id": "0x5QJDo5V27n",
        "outputId": "d886a568-9b9b-4fa7-d62d-9b03f025fd71"
      },
      "execution_count": 109,
      "outputs": [
        {
          "output_type": "execute_result",
          "data": {
            "text/plain": [
              "(2024, 10, 11, 14, 49, 6)"
            ]
          },
          "metadata": {},
          "execution_count": 109
        }
      ]
    },
    {
      "cell_type": "code",
      "source": [
        "#timedelta is a duration expressing the difference between 2 dates\n",
        "delta=dt.timedelta(days=30) # create a timedelta of 100 days\n"
      ],
      "metadata": {
        "id": "sHx0fJvHV2-J"
      },
      "execution_count": 110,
      "outputs": []
    },
    {
      "cell_type": "code",
      "source": [
        "#date.today returns the current local date\n",
        "today=dt.date.today()"
      ],
      "metadata": {
        "id": "dAD3VaQhV3AG"
      },
      "execution_count": 111,
      "outputs": []
    },
    {
      "cell_type": "code",
      "source": [
        "today- delta #the date 100days ago"
      ],
      "metadata": {
        "colab": {
          "base_uri": "https://localhost:8080/"
        },
        "id": "OI_gAbYLXv47",
        "outputId": "d7d5544e-8635-45e5-aca0-bb07ad7c95cc"
      },
      "execution_count": 112,
      "outputs": [
        {
          "output_type": "execute_result",
          "data": {
            "text/plain": [
              "datetime.date(2024, 9, 11)"
            ]
          },
          "metadata": {},
          "execution_count": 112
        }
      ]
    },
    {
      "cell_type": "code",
      "source": [
        "today>today-delta  #compare dates"
      ],
      "metadata": {
        "colab": {
          "base_uri": "https://localhost:8080/"
        },
        "id": "4ZqqbXmiXv7U",
        "outputId": "a12150f4-6945-4ecd-fdc3-2b34656894d3"
      },
      "execution_count": 113,
      "outputs": [
        {
          "output_type": "execute_result",
          "data": {
            "text/plain": [
              "True"
            ]
          },
          "metadata": {},
          "execution_count": 113
        }
      ]
    },
    {
      "cell_type": "code",
      "source": [
        "#objects and class\n",
        "class Person:\n",
        "  institute='Manipal School of Information Sciences' # a class variable\n",
        "  #self keyword to access the attributes and methods of the class\n",
        "  def set_name(self, new_name):      # a method\n",
        "    self.name=new_name\n",
        "  def self_location(self, new_location):\n",
        "    self.location=new_location\n"
      ],
      "metadata": {
        "id": "cakPIh17Xv9Y"
      },
      "execution_count": 114,
      "outputs": []
    },
    {
      "cell_type": "code",
      "source": [
        "person=Person()\n",
        "person.set_name(\"Sanjana\")\n",
        "person.self_location('Manipal, Udupi, Karnataka')"
      ],
      "metadata": {
        "id": "J6_jJoObYClf"
      },
      "execution_count": 115,
      "outputs": []
    },
    {
      "cell_type": "code",
      "source": [
        "print('{} lives in {} and works in the institute {}'.format(person.name,person.location,person.institute))"
      ],
      "metadata": {
        "colab": {
          "base_uri": "https://localhost:8080/"
        },
        "id": "lZ-xuvf4YCoU",
        "outputId": "079ec0de-0262-4b0c-9f4c-601a58f1c198"
      },
      "execution_count": 116,
      "outputs": [
        {
          "output_type": "stream",
          "name": "stdout",
          "text": [
            "Sanjana lives in Manipal, Udupi, Karnataka and works in the institute Manipal School of Information Sciences\n"
          ]
        }
      ]
    },
    {
      "cell_type": "code",
      "source": [
        "x={1,'x',2,'y',(1,2,3),'hello'}\n",
        "y=(1,2,3)\n",
        "type(x)\n"
      ],
      "metadata": {
        "colab": {
          "base_uri": "https://localhost:8080/"
        },
        "id": "EkkxdRCxYCqR",
        "outputId": "31bbed50-d960-4c1c-b7fd-09b90191ff2b"
      },
      "execution_count": 117,
      "outputs": [
        {
          "output_type": "execute_result",
          "data": {
            "text/plain": [
              "set"
            ]
          },
          "metadata": {},
          "execution_count": 117
        }
      ]
    },
    {
      "cell_type": "code",
      "source": [
        "type(y)"
      ],
      "metadata": {
        "colab": {
          "base_uri": "https://localhost:8080/"
        },
        "id": "EwH0ahcTZ2IP",
        "outputId": "b1df5b34-87d5-4236-ca7f-4c1c3de950f3"
      },
      "execution_count": 118,
      "outputs": [
        {
          "output_type": "execute_result",
          "data": {
            "text/plain": [
              "tuple"
            ]
          },
          "metadata": {},
          "execution_count": 118
        }
      ]
    },
    {
      "cell_type": "code",
      "source": [
        "#sets are unordered\n",
        "y={'one','x',2,'y',3}\n",
        "z={1,'x','two','y','a'}\n",
        "print(y,z)"
      ],
      "metadata": {
        "colab": {
          "base_uri": "https://localhost:8080/"
        },
        "id": "OVhOp4xvZ2K4",
        "outputId": "18e36c5a-df97-4c21-92d9-429a25295b38"
      },
      "execution_count": 119,
      "outputs": [
        {
          "output_type": "stream",
          "name": "stdout",
          "text": [
            "{'y', 2, 3, 'x', 'one'} {'y', 1, 'two', 'a', 'x'}\n"
          ]
        }
      ]
    },
    {
      "cell_type": "code",
      "source": [
        "#add values to the set\n",
        "y.add(4)\n",
        "y"
      ],
      "metadata": {
        "colab": {
          "base_uri": "https://localhost:8080/"
        },
        "id": "TXqWJGSwaF7H",
        "outputId": "0a9e3a21-5a31-4320-bcd3-5cc1679685f2"
      },
      "execution_count": 120,
      "outputs": [
        {
          "output_type": "execute_result",
          "data": {
            "text/plain": [
              "{2, 3, 4, 'one', 'x', 'y'}"
            ]
          },
          "metadata": {},
          "execution_count": 120
        }
      ]
    },
    {
      "cell_type": "code",
      "source": [
        "x=[1,'x',2,'y']\n",
        "type(x) #list"
      ],
      "metadata": {
        "colab": {
          "base_uri": "https://localhost:8080/"
        },
        "id": "9HdQJIh_aF9Y",
        "outputId": "00cf16ca-a6bd-498f-963d-fb92a5576d13"
      },
      "execution_count": 121,
      "outputs": [
        {
          "output_type": "execute_result",
          "data": {
            "text/plain": [
              "list"
            ]
          },
          "metadata": {},
          "execution_count": 121
        }
      ]
    },
    {
      "cell_type": "code",
      "source": [
        "#eg of mapping the min function between\n",
        "store1=[10.00,11.00,12.34,5.34]\n",
        "store2=[19.00,10.10,12.24,5.01]\n",
        "store3=[15.00,12.00,11.00,6.00]\n",
        "cheapest=map(min,store1,store2,store3)\n",
        "costly=map(max,store1,store2,store3)\n",
        "print(cheapest)\n",
        "print(costly)\n",
        "#output ids where the answer is stored\n",
        "#<map object at 0x79906bd115d0>\n",
        "#<map object at 0x79906bd13c70>"
      ],
      "metadata": {
        "colab": {
          "base_uri": "https://localhost:8080/"
        },
        "id": "qsBlAInoap2e",
        "outputId": "631d653c-7475-47e0-c088-5a44165aefa6"
      },
      "execution_count": 122,
      "outputs": [
        {
          "output_type": "stream",
          "name": "stdout",
          "text": [
            "<map object at 0x7808e5705480>\n",
            "<map object at 0x7808e5705cf0>\n"
          ]
        }
      ]
    },
    {
      "cell_type": "code",
      "source": [
        "# if we want to print\n",
        "#iterarte through the map object to see the values\n",
        "for item in cheapest:\n",
        "  print(item)"
      ],
      "metadata": {
        "colab": {
          "base_uri": "https://localhost:8080/"
        },
        "id": "aWpMQ4r-ap5S",
        "outputId": "0fba9480-ea0c-4d45-bbb5-83cd4e981941"
      },
      "execution_count": 123,
      "outputs": [
        {
          "output_type": "stream",
          "name": "stdout",
          "text": [
            "10.0\n",
            "10.1\n",
            "11.0\n",
            "5.01\n"
          ]
        }
      ]
    },
    {
      "cell_type": "code",
      "source": [
        "# if we want to print\n",
        "for item in costly:\n",
        "  print(item)"
      ],
      "metadata": {
        "colab": {
          "base_uri": "https://localhost:8080/"
        },
        "id": "LmQmt-kocGdB",
        "outputId": "07504f92-9458-43f2-d12f-7ff4660bccae"
      },
      "execution_count": 124,
      "outputs": [
        {
          "output_type": "stream",
          "name": "stdout",
          "text": [
            "19.0\n",
            "12.0\n",
            "12.34\n",
            "6.0\n"
          ]
        }
      ]
    },
    {
      "cell_type": "code",
      "source": [
        "#calculate squares using map\n",
        "def calculateSquare(n):\n",
        "  return n*n"
      ],
      "metadata": {
        "id": "qqFtUQ7Uce4_"
      },
      "execution_count": 125,
      "outputs": []
    },
    {
      "cell_type": "code",
      "source": [
        "# this is right way to write code bcz in ML models will not give output instead it give prediction\n",
        "numbers=(1,2,3,4)\n",
        "result=map(calculateSquare,numbers)\n",
        "print(result)"
      ],
      "metadata": {
        "colab": {
          "base_uri": "https://localhost:8080/"
        },
        "id": "NSxtkblYce7f",
        "outputId": "75879871-f85f-49d8-c610-e8ab618fc2b9"
      },
      "execution_count": 126,
      "outputs": [
        {
          "output_type": "stream",
          "name": "stdout",
          "text": [
            "<map object at 0x78092405d0c0>\n"
          ]
        }
      ]
    },
    {
      "cell_type": "code",
      "source": [
        "res=list(result)\n",
        "print(res)"
      ],
      "metadata": {
        "colab": {
          "base_uri": "https://localhost:8080/"
        },
        "id": "eGW4zWVQce9v",
        "outputId": "5c04ee05-aafe-4097-f290-2f388285b5eb"
      },
      "execution_count": 127,
      "outputs": [
        {
          "output_type": "stream",
          "name": "stdout",
          "text": [
            "[1, 4, 9, 16]\n"
          ]
        }
      ]
    },
    {
      "cell_type": "code",
      "source": [
        "for item in result:\n",
        "  print(item)"
      ],
      "metadata": {
        "id": "IF6sqzsPcfOZ"
      },
      "execution_count": 128,
      "outputs": []
    },
    {
      "cell_type": "code",
      "source": [
        "# another way for above squaring numbers using LAMBDA\n",
        "numbers=(1,2,3,4)\n",
        "result=map(lambda x: x*x,numbers)\n",
        "print(result)"
      ],
      "metadata": {
        "colab": {
          "base_uri": "https://localhost:8080/"
        },
        "id": "491NanU3dQWv",
        "outputId": "9b58da7f-d41d-4b70-c7e1-b8a210f1f0a0"
      },
      "execution_count": 129,
      "outputs": [
        {
          "output_type": "stream",
          "name": "stdout",
          "text": [
            "<map object at 0x7808e5b37550>\n"
          ]
        }
      ]
    },
    {
      "cell_type": "code",
      "source": [
        "list(result)"
      ],
      "metadata": {
        "colab": {
          "base_uri": "https://localhost:8080/"
        },
        "id": "y0RWXHttdQaU",
        "outputId": "e22221ab-607a-4c35-e1d2-804811a622ac"
      },
      "execution_count": 130,
      "outputs": [
        {
          "output_type": "execute_result",
          "data": {
            "text/plain": [
              "[1, 4, 9, 16]"
            ]
          },
          "metadata": {},
          "execution_count": 130
        }
      ]
    },
    {
      "cell_type": "code",
      "source": [
        "#lamda -- using to add 2 list\n",
        "#lambda function- when you need a function for a short period of time\n",
        "num1=[4,5,6]\n",
        "num2=[5,6,7]"
      ],
      "metadata": {
        "id": "NPxhlK0VcfQ2"
      },
      "execution_count": 131,
      "outputs": []
    },
    {
      "cell_type": "code",
      "source": [
        "result=map(lambda n1,n2:n1+n2,num1,num2)\n",
        "list(result)"
      ],
      "metadata": {
        "colab": {
          "base_uri": "https://localhost:8080/"
        },
        "id": "GZeunfjrcfSp",
        "outputId": "69d22f00-05d0-45a1-d4d9-5f07a85e4b08"
      },
      "execution_count": 132,
      "outputs": [
        {
          "output_type": "execute_result",
          "data": {
            "text/plain": [
              "[9, 11, 13]"
            ]
          },
          "metadata": {},
          "execution_count": 132
        }
      ]
    },
    {
      "cell_type": "code",
      "source": [],
      "metadata": {
        "id": "D4RIs7efcfYo"
      },
      "execution_count": 132,
      "outputs": []
    },
    {
      "cell_type": "markdown",
      "source": [
        "Exception Handling\n",
        "1. Write a program that asks the user to enter a number and catches the ValueError if the input is not a number.\n",
        "2. Create a program that asks for two numbers and catches the ZeroDivisionError if the second number is zero.\n",
        "3. Write a program that prompts the user for a filename and handles the FileNotFoundError if the file does not exist.\n",
        "4. Ask the user to enter a number and handle both ValueError and TypeError exceptions.\n",
        "5. Create a program that tries to read a file and catches any IOError that may occur.\n",
        "6. Write a program that asks the user for a list of numbers separated by spaces and handles the ValueError if any input is not a number.\n",
        "7. Ask the user for a dictionary key and handle the KeyError if the key is not found in a predefined dictionary.\n",
        "8. Create a program that catches the IndexError if the user tries to access an invalid index in a list.\n",
        "8. Write a program that attempts to convert a user-entered string to an integer and catches the ValueError.\n",
        "9. Ask the user for an integer and handle the OverflowError if the number is too large.\n"
      ],
      "metadata": {
        "id": "0ZqstzRnXER4"
      }
    },
    {
      "cell_type": "code",
      "source": [
        "#Write a program that asks the user to enter a number and catches the ValueError if the input is not a number.\n",
        "try:\n",
        "  a=int(input(\"enter a number: \"))\n",
        "  print(a)\n",
        "except ValueError:\n",
        "  print(\"input is not a number\")\n"
      ],
      "metadata": {
        "id": "lEGIGbCpXYtD",
        "colab": {
          "base_uri": "https://localhost:8080/"
        },
        "outputId": "47487bc6-616d-4035-80f1-35ec07aa1f03"
      },
      "execution_count": 133,
      "outputs": [
        {
          "output_type": "stream",
          "name": "stdout",
          "text": [
            "enter a number: s\n",
            "input is not a number\n"
          ]
        }
      ]
    },
    {
      "cell_type": "code",
      "source": [
        "#Create a program that asks for two numbers and catches the ZeroDivisionError if the second number is zero.\n",
        "try:\n",
        "  a=int(input(\"enter number1: \"))\n",
        "  b=int(input(\"enter number2: \"))\n",
        "  result=a//b\n",
        "  print(result)\n",
        "except ZeroDivisionError:\n",
        "  if(b==0):\n",
        "    print(\"number2 is zero!!!. number2 should be greater than zero\")\n"
      ],
      "metadata": {
        "colab": {
          "base_uri": "https://localhost:8080/"
        },
        "id": "putV0kqcjbS3",
        "outputId": "7b0420a6-0953-438b-cdbd-c563087780e6"
      },
      "execution_count": 134,
      "outputs": [
        {
          "output_type": "stream",
          "name": "stdout",
          "text": [
            "enter number1: 10\n",
            "enter number2: 0\n",
            "number2 is zero!!!. number2 should be greater than zero\n"
          ]
        }
      ]
    },
    {
      "cell_type": "code",
      "source": [
        "#Write a program that prompts the user for a filename and handles the FileNotFoundError if the file does not exist.\n",
        "try:\n",
        "  f = open(\"demofile.txt\", \"rt\")\n",
        "  print(f.read())\n",
        "  f.close()\n",
        "except FileNotFoundError:\n",
        "  print(\"File not Found!!!\")"
      ],
      "metadata": {
        "colab": {
          "base_uri": "https://localhost:8080/"
        },
        "id": "P6RWoA3LjbbX",
        "outputId": "f60badb4-95d4-421e-d4af-88b549894914"
      },
      "execution_count": 135,
      "outputs": [
        {
          "output_type": "stream",
          "name": "stdout",
          "text": [
            "File not Found!!!\n"
          ]
        }
      ]
    },
    {
      "cell_type": "markdown",
      "source": [
        "Try-Except Structure\n",
        "1. Write a program that prompts the user for a number and uses try-except to handle invalid input.\n",
        "2. Create a program that asks the user for two numbers and uses try-except to handle division by zero.\n",
        "3. Write a program that tries to open a file and prints a custom error message if the file does not exist.\n",
        "4. Ask the user for a list of numbers and use try-except to handle non-numeric input.\n",
        "5. Create a program that uses try-except to handle multiple exceptions (ValueError, ZeroDivisionError).\n",
        "6. Write a program that asks the user for a filename and uses try-except to handle file-related errors.\n",
        "7. Ask the user for a number and use try-except-finally to ensure that a message is printed whether an exception occurs or not.\n",
        "8. Create a program that uses nested try-except blocks to handle different types of exceptions.\n",
        "9. Write a program that tries to convert a user-entered string to different data types (int, float, complex) and handles exceptions for each conversion.\n",
        "10. Ask the user for a number and use try-except to handle both ValueError and custom exceptions."
      ],
      "metadata": {
        "id": "tZHjk1yJXHiz"
      }
    },
    {
      "cell_type": "code",
      "source": [],
      "metadata": {
        "id": "rLA30y0aXZdD"
      },
      "execution_count": 135,
      "outputs": []
    },
    {
      "cell_type": "markdown",
      "source": [
        "Functions\n",
        "1. Write a function that takes a name as input and prints a greeting message.\n",
        "2. Create a function that takes two numbers as arguments and returns their sum.\n",
        "3. Write a function that checks if a number is even or odd.\n",
        "4. Create a function that takes a string and returns its length.\n",
        "5. Write a function that takes a list of numbers and returns the maximum number.\n",
        "6. Create a function that calculates the factorial of a number.\n",
        "7. Write a function that takes a string and returns it in reverse.\n",
        "8. Create a function that takes a list of numbers and returns a new list with only the even numbers.\n",
        "9. Write a function that checks if a given string is a palindrome.\n",
        "10. Create a function that takes a list of numbers and returns the average of the numbers."
      ],
      "metadata": {
        "id": "EPUwJAfEXLxq"
      }
    },
    {
      "cell_type": "code",
      "source": [],
      "metadata": {
        "id": "v4TSKuP_Xa2j"
      },
      "execution_count": 135,
      "outputs": []
    },
    {
      "cell_type": "markdown",
      "source": [
        "Loops and Iterations\n",
        "1. Write a program that prints the numbers from 1 to 10 using a for loop.\n",
        "2. Create a program that prints the even numbers between 1 and 20 using a while loop.\n",
        "3. Write a program that asks the user for a number and prints its multiplication table using a for loop.\n",
        "4. Create a program that calculates the sum of all numbers in a user-entered list using a for loop.\n",
        "5. Write a program that prints the first 10 Fibonacci numbers using a while loop.\n",
        "6. Create a program that asks the user for a string and prints each character using a for loop.\n",
        "7. Write a program that asks the user for a list of numbers and prints only the positive numbers using a for loop.\n",
        "8. Create a program that uses a nested loop to print a multiplication table from 1 to 5.\n",
        "9. Write a program that asks the user for a number and prints all its divisors using a for loop.\n",
        "10. Create a program that asks the user for a list of words and prints each word in reverse using a for loop."
      ],
      "metadata": {
        "id": "Gw5ec7KeXObu"
      }
    },
    {
      "cell_type": "code",
      "execution_count": 136,
      "metadata": {
        "colab": {
          "base_uri": "https://localhost:8080/"
        },
        "id": "yjtFJd89TbB6",
        "outputId": "54a38dd7-7840-4149-d666-db480db6868b"
      },
      "outputs": [
        {
          "output_type": "stream",
          "name": "stdout",
          "text": [
            "Enter username:abc\n",
            "Username is: abc\n"
          ]
        }
      ],
      "source": [
        "username = input(\"Enter username:\")\n",
        "print(\"Username is: \" + username)"
      ]
    },
    {
      "cell_type": "code",
      "source": [],
      "metadata": {
        "id": "csbUp4vgW8BU"
      },
      "execution_count": 136,
      "outputs": []
    },
    {
      "cell_type": "code",
      "source": [],
      "metadata": {
        "id": "8x4vCorEThCg"
      },
      "execution_count": 136,
      "outputs": []
    }
  ]
}